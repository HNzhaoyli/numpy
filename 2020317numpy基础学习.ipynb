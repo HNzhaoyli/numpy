{
 "cells": [
  {
   "cell_type": "code",
   "execution_count": 5,
   "metadata": {},
   "outputs": [
    {
     "name": "stdout",
     "output_type": "stream",
     "text": [
      "[[ 0  1  2  3  4]\n",
      " [ 5  6  7  8  9]\n",
      " [10 11 12 13 14]]\n",
      "2 (3, 5) 15 int32 4\n",
      "2****************\n"
     ]
    }
   ],
   "source": [
    "\"2020\\3\\17今天开始学习numpy基础篇\"\n",
    "'''1 基础知识'''\n",
    "import numpy as np\n",
    "a = np.arange(15).reshape(3,5)#arange 返回的是数组，而不是列表\n",
    "print(a)\n",
    "print(a.ndim,a.shape,a.size,a.dtype.name,a.itemsize)\n",
    "#     维度   形状   大小   类型  每个元素的字节大小\n"
   ]
  },
  {
   "cell_type": "code",
   "execution_count": 6,
   "metadata": {},
   "outputs": [
    {
     "name": "stdout",
     "output_type": "stream",
     "text": [
      "[1 2 3 4]\n",
      "[[1 2 3 4]\n",
      " [5 6 7 8]]\n",
      "*****************************\n",
      "[[0. 0. 0. 0.]\n",
      " [0. 0. 0. 0.]\n",
      " [0. 0. 0. 0.]]\n",
      "[[1 1 1]\n",
      " [1 1 1]]\n",
      "**********************************\n",
      "[1 3 5 7 9]\n",
      "[[0.33524999 0.72014012 0.43029255]\n",
      " [0.25837085 0.20347717 0.39560847]]\n"
     ]
    }
   ],
   "source": [
    "'''2 创建数组'''\n",
    "a = np.array([1,2,3,4])\n",
    "b = np.array([[1,2,3,4],[5,6,7,8]])\n",
    "print(a)\n",
    "print(b)\n",
    "\n",
    "print(\"*****************************\")\n",
    "a = np.zeros((3,4))\n",
    "print(a)\n",
    "b = np.ones((2,3),dtype=int)\n",
    "print(b)\n",
    "print(\"**********************************\")\n",
    "\n",
    "#arange 函数返回数组\n",
    "a = np.arange(1,10,2) #(start,end,step)   必须在numpy里边才可以用\n",
    "print(a)#[1 3 5 7 9]\n",
    "b = np.arange(1,3,0.5)#支持小数  range()不支持\n",
    "a = np.random.random((2,3))\n",
    "print(a)"
   ]
  },
  {
   "cell_type": "code",
   "execution_count": 10,
   "metadata": {},
   "outputs": [
    {
     "name": "stdout",
     "output_type": "stream",
     "text": [
      "[[0 1]\n",
      " [2 3]]\n",
      "[[1 2]\n",
      " [3 4]]\n"
     ]
    }
   ],
   "source": [
    "print(np.arange(4).reshape(2,2))\n",
    "print(np.arange(1,5).reshape(2,2))"
   ]
  },
  {
   "cell_type": "code",
   "execution_count": 17,
   "metadata": {},
   "outputs": [
    {
     "ename": "SyntaxError",
     "evalue": "unexpected character after line continuation character (<ipython-input-17-9a490fd8d8df>, line 9)",
     "output_type": "error",
     "traceback": [
      "\u001b[1;36m  File \u001b[1;32m\"<ipython-input-17-9a490fd8d8df>\"\u001b[1;36m, line \u001b[1;32m9\u001b[0m\n\u001b[1;33m    print(a,\\n\"*\"*10)\u001b[0m\n\u001b[1;37m                     ^\u001b[0m\n\u001b[1;31mSyntaxError\u001b[0m\u001b[1;31m:\u001b[0m unexpected character after line continuation character\n"
     ]
    }
   ],
   "source": [
    "'''3 打印数组'''\n",
    "'''当你打印一个数组，numpy会类似于嵌套列表的方法显示\n",
    "    0  最后的轴从左往右打印\n",
    "    0  次后的轴从上到下打印\n",
    "    0  剩下的轴从上到下打印，每个切片通过一个空行与下一个隔开'''\n",
    "a = np.arange(6)#1d\n",
    "b = np.arange(6).reshape(2,3)#2d\n",
    "c = np.arange(24).reshape(2,3,4)#3d\n",
    "print(a,\\n\"*\"*10)\n",
    "print(b,\"\\n*******\")\n",
    "print(c)\n",
    "print(\"***********\")\n",
    "print(np.arange(10000).reshape(100,100))"
   ]
  },
  {
   "cell_type": "code",
   "execution_count": 20,
   "metadata": {},
   "outputs": [
    {
     "name": "stdout",
     "output_type": "stream",
     "text": [
      "**********\n"
     ]
    }
   ],
   "source": [
    "print(\"*\"*10)"
   ]
  },
  {
   "cell_type": "code",
   "execution_count": null,
   "metadata": {},
   "outputs": [],
   "source": []
  },
  {
   "cell_type": "code",
   "execution_count": 28,
   "metadata": {},
   "outputs": [
    {
     "name": "stdout",
     "output_type": "stream",
     "text": [
      "[1 1 1 1]\n",
      "[[ 1  4]\n",
      " [ 9 16]]\n",
      "[[ 7 10]\n",
      " [15 22]]\n",
      "a 每个位置元素乘以3:\n",
      " [[3. 3. 3.]\n",
      " [3. 3. 3.]]\n",
      "[ 1.   5.5 10. ]\n",
      "a:\n",
      " [[ 0  1  2  3]\n",
      " [ 4  5  6  7]\n",
      " [ 8  9 10 11]]\n",
      "[12 15 18 21]\n",
      "[ 6 22 38]\n"
     ]
    }
   ],
   "source": [
    "\"\"\"4基本运算\"\"\"\n",
    "a = np.array([1,2,3,4])\n",
    "b = np.arange(4)\n",
    "c = a - b\n",
    "print(c)#[1 1 1 1]\n",
    "#sin(c)  #numpy 中的乘法运算符*按元素计算 ，矩阵乘法可以使用dot函数\n",
    "a = np.array([[1,2],\n",
    "             [3,4]])\n",
    "b = np.array([[1,2],\n",
    "             [3,4]])\n",
    "print(a*b) #对应位置相乘\n",
    "print(b.dot(a))#矩阵相乘\n",
    "\n",
    "a = np.ones((2,3))\n",
    "a *= 3\n",
    "print(\"a 每个位置元素乘以3:\\n\",a) #每个位置乘以3\n",
    "\n",
    "a = np.linspace(1,10,3)#(start,end,num)\n",
    "print(a)\n",
    "\n",
    "\"\"\"sum,min,max  涉及到轴方向运算\n",
    "axis = 0  #列相加\n",
    "axis = 1  #行相加\"\"\"\n",
    "a = np.arange(12).reshape(3,4)\n",
    "print(\"a:\\n\", a)\n",
    "print(a.sum(axis = 0))\n",
    "print(a.sum(axis = 1))"
   ]
  },
  {
   "cell_type": "code",
   "execution_count": 1,
   "metadata": {},
   "outputs": [
    {
     "name": "stdout",
     "output_type": "stream",
     "text": [
      "[0 1 2 3 4] [ 1.          2.71828183  7.3890561  20.08553692 54.59815003] [0.         1.         1.41421356 1.73205081 2.        ] [ 1.          3.71828183  8.80326966 21.81758773 56.59815003]\n",
      "******************************\n",
      "[0 1 2 3 4 5 6 7 8 9]\n"
     ]
    },
    {
     "data": {
      "text/plain": [
       "2"
      ]
     },
     "execution_count": 1,
     "metadata": {},
     "output_type": "execute_result"
    }
   ],
   "source": [
    "\"\"\"5 通用函数ufunc\n",
    "numpy 提供的常见数学函数如 sin  cos exp  ,这些叫做通用函数ufunc   numpy 里边，函数作用是按照数组的元素运算，产生一个数组作为输出\"\"\"\n",
    "import numpy as np\n",
    "a = np.arange(5)\n",
    "b = np.exp(a)\n",
    "c = np.sqrt(a)\n",
    "d = np.add(b,c)\n",
    "print(a,b,c,d,)\n",
    "print(\"*\"*30)\n",
    "\"\"\"索引，切片和迭代\n",
    "一维数组可以被索引，切片和迭代，就像列表和其他Python序列\"\"\"\n",
    "a = np.arange(10)\n",
    "print(a)\n",
    "a[2]\n",
    "\n",
    "\n"
   ]
  },
  {
   "cell_type": "code",
   "execution_count": 17,
   "metadata": {},
   "outputs": [
    {
     "data": {
      "text/plain": [
       "array([0, 1])"
      ]
     },
     "execution_count": 17,
     "metadata": {},
     "output_type": "execute_result"
    }
   ],
   "source": [
    "a[0:2]"
   ]
  },
  {
   "cell_type": "code",
   "execution_count": 23,
   "metadata": {},
   "outputs": [
    {
     "data": {
      "text/plain": [
       "array([9, 8, 7, 6, 5, 4, 3, 2, 1, 0])"
      ]
     },
     "execution_count": 23,
     "metadata": {},
     "output_type": "execute_result"
    }
   ],
   "source": [
    "a[::-1]#翻转\n"
   ]
  },
  {
   "cell_type": "code",
   "execution_count": 27,
   "metadata": {},
   "outputs": [
    {
     "name": "stdout",
     "output_type": "stream",
     "text": [
      "0.0,1.0,1.4142135623730951,1.7320508075688772,2.0,2.23606797749979,2.449489742783178,2.6457513110645907,2.8284271247461903,3.0,"
     ]
    }
   ],
   "source": [
    "for i in a :\n",
    "    print(i**(1/2),end=\",\")"
   ]
  },
  {
   "cell_type": "code",
   "execution_count": 29,
   "metadata": {},
   "outputs": [
    {
     "data": {
      "text/plain": [
       "array([[ 0,  1,  2,  3],\n",
       "       [10, 11, 12, 13],\n",
       "       [20, 21, 22, 23]])"
      ]
     },
     "execution_count": 29,
     "metadata": {},
     "output_type": "execute_result"
    }
   ],
   "source": [
    "\"\"\"多维数组可以每个轴有一个索引，这些索引由一个逗号分割的元祖给出\"\"\"\n",
    "def f(x,y):\n",
    "    return 10*x+y\n",
    "b = np.fromfunction(f,(3,4),dtype=int)#https://www.cnblogs.com/pingwen/p/4803501.html\n",
    "b"
   ]
  },
  {
   "cell_type": "code",
   "execution_count": 36,
   "metadata": {},
   "outputs": [
    {
     "data": {
      "text/plain": [
       "(array([20, 21, 22, 23]),\n",
       " 23,\n",
       " array([ 2, 12]),\n",
       " array([ 2, 12, 22]),\n",
       " array([[ 0,  1,  2,  3],\n",
       "        [10, 11, 12, 13]]))"
      ]
     },
     "execution_count": 36,
     "metadata": {},
     "output_type": "execute_result"
    }
   ],
   "source": [
    "b[2],b[2,3],b[0:2,2],b[:,2],b[0:2,:]"
   ]
  },
  {
   "cell_type": "code",
   "execution_count": 37,
   "metadata": {},
   "outputs": [
    {
     "data": {
      "text/plain": [
       "array([20, 21, 22, 23])"
      ]
     },
     "execution_count": 37,
     "metadata": {},
     "output_type": "execute_result"
    }
   ],
   "source": [
    "b[-1]#少于轴数的索引被提供，确定的索引被认为是整个切片。"
   ]
  },
  {
   "cell_type": "code",
   "execution_count": 38,
   "metadata": {},
   "outputs": [
    {
     "data": {
      "text/plain": [
       "'6、形状操作'"
      ]
     },
     "execution_count": 38,
     "metadata": {},
     "output_type": "execute_result"
    }
   ],
   "source": [
    "\"\"\"6、形状操作\"\"\""
   ]
  },
  {
   "cell_type": "code",
   "execution_count": 40,
   "metadata": {},
   "outputs": [
    {
     "data": {
      "text/plain": [
       "array([[ 0,  1,  2,  3],\n",
       "       [ 4,  5,  6,  7],\n",
       "       [ 8,  9, 10, 11]])"
      ]
     },
     "execution_count": 40,
     "metadata": {},
     "output_type": "execute_result"
    }
   ],
   "source": [
    "\"\"\"一个数组的形状由每个轴上的元素个数给出\"\"\"\n",
    "a = np.arange(12).reshape(3,4)\n",
    "a"
   ]
  },
  {
   "cell_type": "code",
   "execution_count": 42,
   "metadata": {},
   "outputs": [
    {
     "data": {
      "text/plain": [
       "((3, 4), array([ 0,  1,  2,  3,  4,  5,  6,  7,  8,  9, 10, 11]))"
      ]
     },
     "execution_count": 42,
     "metadata": {},
     "output_type": "execute_result"
    }
   ],
   "source": [
    "a.shape,a.ravel()#flatten the array,"
   ]
  },
  {
   "cell_type": "code",
   "execution_count": 52,
   "metadata": {},
   "outputs": [
    {
     "data": {
      "text/plain": [
       "(array([[ 0,  1,  2,  3,  4,  5],\n",
       "        [ 6,  7,  8,  9, 10, 11]]), array([[ 0,  6],\n",
       "        [ 1,  7],\n",
       "        [ 2,  8],\n",
       "        [ 3,  9],\n",
       "        [ 4, 10],\n",
       "        [ 5, 11]]), (6, 2))"
      ]
     },
     "execution_count": 52,
     "metadata": {},
     "output_type": "execute_result"
    }
   ],
   "source": [
    "a.reshape(2,6), a.transpose(),a.transpose().shape"
   ]
  },
  {
   "cell_type": "code",
   "execution_count": 49,
   "metadata": {},
   "outputs": [
    {
     "data": {
      "text/plain": [
       "array([[ 0,  1,  2,  3,  4,  5],\n",
       "       [ 6,  7,  8,  9, 10, 11]])"
      ]
     },
     "execution_count": 49,
     "metadata": {},
     "output_type": "execute_result"
    }
   ],
   "source": [
    "a.resize(2,6)\n",
    "a"
   ]
  },
  {
   "cell_type": "code",
   "execution_count": 55,
   "metadata": {},
   "outputs": [
    {
     "data": {
      "text/plain": [
       "array([[3., 8., 3., 0., 3., 1., 4., 3., 3., 8., 6., 5.],\n",
       "       [5., 9., 2., 6., 2., 4., 5., 6., 1., 8., 0., 7.]])"
      ]
     },
     "execution_count": 55,
     "metadata": {},
     "output_type": "execute_result"
    }
   ],
   "source": [
    "a = np.floor(10*np.random.random((2,12)))\n",
    "a"
   ]
  },
  {
   "cell_type": "code",
   "execution_count": 59,
   "metadata": {},
   "outputs": [
    {
     "data": {
      "text/plain": [
       "[array([[3., 8., 3., 0.],\n",
       "        [5., 9., 2., 6.]]), array([[3., 1., 4., 3.],\n",
       "        [2., 4., 5., 6.]]), array([[3., 8., 6., 5.],\n",
       "        [1., 8., 0., 7.]])]"
      ]
     },
     "execution_count": 59,
     "metadata": {},
     "output_type": "execute_result"
    }
   ],
   "source": [
    "b = np.hsplit(a,3)# 分成三个  每个八个元素  还是两行\n",
    "b"
   ]
  },
  {
   "cell_type": "code",
   "execution_count": 60,
   "metadata": {},
   "outputs": [
    {
     "data": {
      "text/plain": [
       "[array([[3., 8., 3.],\n",
       "        [5., 9., 2.]]), array([[0.],\n",
       "        [6.]]), array([[3., 1., 4., 3., 3., 8., 6., 5.],\n",
       "        [2., 4., 5., 6., 1., 8., 0., 7.]])]"
      ]
     },
     "execution_count": 60,
     "metadata": {},
     "output_type": "execute_result"
    }
   ],
   "source": [
    "c = np.hsplit(a,(3,4))#Split a after the third and the fourth column\n",
    "c# 在第三第四列后边分割a"
   ]
  },
  {
   "cell_type": "code",
   "execution_count": 61,
   "metadata": {},
   "outputs": [
    {
     "data": {
      "text/plain": [
       "'完全不拷贝，简单的赋值不拷贝数组对象或他们的数据'"
      ]
     },
     "execution_count": 61,
     "metadata": {},
     "output_type": "execute_result"
    }
   ],
   "source": [
    "\"\"\"复制和视图\n",
    "当运算和处理数组是，他们的数据有时被拷贝到新的数组有时不是\"\"\"\n",
    "\"\"\"完全不拷贝，简单的赋值不拷贝数组对象或他们的数据\"\"\""
   ]
  },
  {
   "cell_type": "code",
   "execution_count": 62,
   "metadata": {},
   "outputs": [
    {
     "data": {
      "text/plain": [
       "True"
      ]
     },
     "execution_count": 62,
     "metadata": {},
     "output_type": "execute_result"
    }
   ],
   "source": [
    "a = np.arange(12)\n",
    "b= a \n",
    "b is a \n",
    "b.shape = (3,4)"
   ]
  },
  {
   "cell_type": "code",
   "execution_count": 67,
   "metadata": {},
   "outputs": [
    {
     "data": {
      "text/plain": [
       "(3, 4)"
      ]
     },
     "execution_count": 67,
     "metadata": {},
     "output_type": "execute_result"
    }
   ],
   "source": [
    "a.shape"
   ]
  },
  {
   "cell_type": "code",
   "execution_count": null,
   "metadata": {},
   "outputs": [],
   "source": []
  },
  {
   "cell_type": "code",
   "execution_count": null,
   "metadata": {},
   "outputs": [],
   "source": []
  }
 ],
 "metadata": {
  "kernelspec": {
   "display_name": "Python 3",
   "language": "python",
   "name": "python3"
  },
  "language_info": {
   "codemirror_mode": {
    "name": "ipython",
    "version": 3
   },
   "file_extension": ".py",
   "mimetype": "text/x-python",
   "name": "python",
   "nbconvert_exporter": "python",
   "pygments_lexer": "ipython3",
   "version": "3.7.3"
  }
 },
 "nbformat": 4,
 "nbformat_minor": 2
}
